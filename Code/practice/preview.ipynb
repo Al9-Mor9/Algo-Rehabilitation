{
 "cells": [
  {
   "cell_type": "markdown",
   "metadata": {},
   "source": [
    "# Preview of Algorithm Test\n",
    "\n",
    "<hr>"
   ]
  },
  {
   "cell_type": "markdown",
   "metadata": {},
   "source": [
    "### 1. 플로이드 워샬 (Floyd Warshall)"
   ]
  },
  {
   "cell_type": "markdown",
   "metadata": {},
   "source": [
    "[하림의 설명](https://github.com/Al9-Mor9/Concepts/blob/main/Graph/Shortest%20Path%20Algorithm.md)\n",
    "\n",
    "\n",
    "모든 노드에서 다른 모든 노드까지의 최단 경로를 모두 계산하는 알고리즘.\n",
    "\n",
    "n by n의 2차원 행렬을 개선시키며 진행된다. 노드 수, 간선 수, 각 간선의 비용이 주어진다. \n",
    "\n",
    "a 와 b 사이의 최소거리를 특정 노드 k를 통해 가는 경로와 비교해서 갱신하는 방법. \n",
    "\n",
    "$ D_{ab} = min(D_{ab}, D_{ak} + D_{kb})$\n",
    "\n",
    "(이때, a를 특정하면 다익스트라가 된다.)\n",
    "\n",
    "\n",
    "- [백준 11404 플로이드](https://www.acmicpc.net/problem/11404)"
   ]
  },
  {
   "cell_type": "code",
   "execution_count": null,
   "metadata": {},
   "outputs": [],
   "source": [
    "## 1. Input 받기.\n",
    "\n",
    "## 2. INF로 구성된 초기 2차원 행렬을 만들자.\n",
    "\n",
    "## 3. a, b 그리고 k 를 순회하며 최소값을 갱신해보자.\n",
    "\n",
    "## 4. 출력. "
   ]
  },
  {
   "cell_type": "code",
   "execution_count": null,
   "metadata": {},
   "outputs": [],
   "source": [
    "'''\n",
    "n\n",
    "m\n",
    "m 줄 : a b c (두 노드와 비용)\n",
    "'''\n",
    "\n",
    "'''\n",
    "5\n",
    "14\n",
    "1 2 2\n",
    "1 3 3\n",
    "1 4 1\n",
    "1 5 10\n",
    "2 4 2\n",
    "3 4 1\n",
    "3 5 1\n",
    "4 5 3\n",
    "3 5 10\n",
    "3 1 8\n",
    "1 4 2\n",
    "5 1 7\n",
    "3 4 2\n",
    "5 2 4\n",
    "'''\n"
   ]
  },
  {
   "cell_type": "markdown",
   "metadata": {},
   "source": [
    "```\n",
    "0 2 3 1 4\n",
    "12 0 15 2 5\n",
    "8 5 0 1 1\n",
    "10 7 13 0 3\n",
    "7 4 10 6 0\n",
    "```\n"
   ]
  },
  {
   "cell_type": "markdown",
   "metadata": {},
   "source": [
    "### 2. 최소 공통 조상 (LCA, Lowest Common Ancestor)"
   ]
  },
  {
   "cell_type": "markdown",
   "metadata": {},
   "source": [
    "[영서의 설명](https://github.com/Al9-Mor9/Concepts/blob/main/Graph/LCA_P.md)\n",
    "\n",
    "parent, child 노드로 구성된 트리에서 최소 공통 조상을 찾는 문제이다.\n",
    "\n",
    "child 기준 각 parent를 알아야하고, 깊이 확인을 위해 각 노드의 깊이를 알아야한다.\n",
    "\n",
    "depth와 부모를 설정할 때 중복을 피하기 위한 배열이 필요하다.(단방향 그래프)\n",
    "\n",
    "위에 필요한 정보를 다 저장했다면, 최소 공통 조상을 찾는데, depth를 맞추고, 한칸씩 올리며 부모를 찾는다.\n",
    "\n",
    "> 개선된 LCA는 바로 위 부모뿐 아니라. $2^n$ 번째 조상도 저장하여 두 노드의 depth에 따라 중간 부모들을 건너뛴다.\n",
    "> 따라서 child 기준 각 parent를 저장한 행렬은 2차원 배열이된다. \n",
    "\n",
    "\n",
    "- [백준 11437 LCA](https://www.acmicpc.net/problem/11437)\n",
    "\n",
    "- [백준 11438 LCA2](https://www.acmicpc.net/problem/11438)"
   ]
  },
  {
   "cell_type": "code",
   "execution_count": null,
   "metadata": {},
   "outputs": [],
   "source": [
    "# 부모, 깊이, 방문여부, 그래프에 대한 리스트를 선언하고, 그래프를 받고 정의해주자.\n",
    "# 1. 그래프는 2차원 어레이고, 연결리스트로 구성해주자.\n",
    "\n",
    "# 2. 부모를 설정하고, 깊이를 갱신하기 위한 dfs를 만들어 주자.\n",
    "def dfs(node, depth):\n",
    "    pass                # 방문 여부, 깊이, 설정.\n",
    "                        # 그리고 연결리스트로 노드를 탐색하고 부모 설정 후, 다음 노드를 세팅하러간다.\n",
    "\n",
    "# 3. LCA 함수 설정\n",
    "def lca(a, b):\n",
    "    pass                # 깊이를 맞춰주자.\n",
    "                        # 노드를 맞춰주자.\n",
    "\n",
    "                        # 개선된 LCA의 경우 깊이 이동시 2^k 만큼씩 점프하고, \n",
    "                        # 동일 깊이가 되고나서, 공통조상이 동일하지 않은 최대 범위만큼 점프를 한다.\n",
    "\n",
    "# 4. 인풋을 받고, lca를 통해 출력.\n"
   ]
  },
  {
   "cell_type": "code",
   "execution_count": null,
   "metadata": {},
   "outputs": [],
   "source": [
    "'''\n",
    "LCA, LCA2의 인풋이 동일하다.\n",
    "n\n",
    "n-1 줄 : 트리상 연결된 두 정점.\n",
    "m\n",
    "m 줄 : 공통 조상을 알고싶은 정점 쌍\n",
    "\n",
    "'''\n",
    "\n",
    "'''\n",
    "15\n",
    "1 2\n",
    "1 3\n",
    "2 4\n",
    "3 7\n",
    "6 2\n",
    "3 8\n",
    "4 9\n",
    "2 5\n",
    "5 11\n",
    "7 13\n",
    "10 4\n",
    "11 15\n",
    "12 5\n",
    "14 7\n",
    "6\n",
    "6 11\n",
    "10 9\n",
    "2 6\n",
    "7 6\n",
    "8 13\n",
    "8 15\n",
    "'''"
   ]
  },
  {
   "cell_type": "markdown",
   "metadata": {},
   "source": [
    "```\n",
    "2\n",
    "4\n",
    "2\n",
    "1\n",
    "3\n",
    "1\n",
    "```"
   ]
  },
  {
   "cell_type": "code",
   "execution_count": null,
   "metadata": {},
   "outputs": [],
   "source": []
  },
  {
   "cell_type": "code",
   "execution_count": null,
   "metadata": {},
   "outputs": [],
   "source": []
  }
 ],
 "metadata": {
  "kernelspec": {
   "display_name": "Python 3",
   "language": "python",
   "name": "python3"
  },
  "language_info": {
   "codemirror_mode": {
    "name": "ipython",
    "version": 3
   },
   "file_extension": ".py",
   "mimetype": "text/x-python",
   "name": "python",
   "nbconvert_exporter": "python",
   "pygments_lexer": "ipython3",
   "version": "3.9.13"
  },
  "orig_nbformat": 4
 },
 "nbformat": 4,
 "nbformat_minor": 2
}
